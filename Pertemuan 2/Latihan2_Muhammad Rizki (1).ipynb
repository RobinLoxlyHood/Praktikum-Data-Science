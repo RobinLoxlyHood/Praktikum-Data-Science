{
  "nbformat": 4,
  "nbformat_minor": 0,
  "metadata": {
    "colab": {
      "name": "Latihan Basic Python.ipynb",
      "provenance": [],
      "collapsed_sections": []
    },
    "kernelspec": {
      "name": "python3",
      "display_name": "Python 3"
    },
    "language_info": {
      "name": "python"
    }
  },
  "cells": [
    {
      "cell_type": "markdown",
      "source": [
        "#Latihan 1\n",
        "\n",
        "Buatlah biodata diri dengan python menggunakan `print()`"
      ],
      "metadata": {
        "id": "DjL2oM81_0EX"
      }
    },
    {
      "cell_type": "code",
      "source": [
        "#Contoh :\n",
        "\n",
        "print('Nama saya Rika')\n",
        "print('Umur saya 25 Tahun')\n",
        "print('Saya berasal dari Bali')"
      ],
      "metadata": {
        "id": "Cn89XOjs_6Kt"
      },
      "execution_count": null,
      "outputs": []
    },
    {
      "cell_type": "code",
      "source": [
        "#Jawabanmu\n",
        "print('Nama saya Muhammad Rizki')\n",
        "print('Umur saya 23 Tahun')\n",
        "print('Saya berasal dari Brebes')"
      ],
      "metadata": {
        "id": "T-sPiXWNAMVi",
        "colab": {
          "base_uri": "https://localhost:8080/"
        },
        "outputId": "5f4b1aca-258b-4c5b-db49-87571b2230fa"
      },
      "execution_count": 1,
      "outputs": [
        {
          "output_type": "stream",
          "name": "stdout",
          "text": [
            "Nama saya Muhammad Rizki\n",
            "Umur saya 23 Tahun\n",
            "Saya berasal dari Brebes\n"
          ]
        }
      ]
    },
    {
      "cell_type": "markdown",
      "source": [
        "#Latihan 2"
      ],
      "metadata": {
        "id": "6I4Y4iy8Ag0L"
      }
    },
    {
      "cell_type": "markdown",
      "source": [
        "Buatlah perhitungan luas segitiga menggunakan python, dan hitung luas segitiga dengan\n",
        "\n",
        "1. alas = 2, tinggi = 4\n",
        "1. alas = 3, tinggi = 5\n",
        "1. alas = 3, tinggi = 6\n",
        "\n",
        "clue :\n",
        "\n",
        "$L\\Delta = (a * t)/2$"
      ],
      "metadata": {
        "id": "9CKXZ_xkAouA"
      }
    },
    {
      "cell_type": "code",
      "source": [
        "#Jawabanmu\n",
        "def luas_segitiga(alas, tinggi):\n",
        "  luas = (alas*tinggi)/2\n",
        "  print(\"Luas Segitiga adalah\", luas)\n",
        "\n",
        "#Call function\n",
        "luas_segitiga(2, 4)\n",
        "luas_segitiga(3, 5)\n",
        "luas_segitiga(3, 6)"
      ],
      "metadata": {
        "id": "JJ-uEygHLiVT",
        "colab": {
          "base_uri": "https://localhost:8080/"
        },
        "outputId": "a56d9165-1743-4dc1-eb61-9fa78ab5a024"
      },
      "execution_count": 9,
      "outputs": [
        {
          "output_type": "stream",
          "name": "stdout",
          "text": [
            "Luas Segitiga adalah 4.0\n",
            "Luas Segitiga adalah 7.5\n",
            "Luas Segitiga adalah 9.0\n"
          ]
        }
      ]
    },
    {
      "cell_type": "markdown",
      "source": [
        "#Latihan 3\n",
        "\n",
        "Buatlah kode untuk menentukan apakah angka yang dimasukkan bernilai genap atau ganjil\n",
        "\n",
        "clue:\n",
        "* sisa bagi dari bilangan genap oleh 2 adalah 0"
      ],
      "metadata": {
        "id": "pJwWx2IeB6zz"
      }
    },
    {
      "cell_type": "code",
      "source": [
        "angka = int(input('Masukkan angka! '))\n",
        "#Jawabanmu\n",
        "hasil = angka % 2\n",
        "if hasil == 0:\n",
        "  print('Angka yang anda Masukan bernilai Genap')\n",
        "else :\n",
        "  print('Angka yang anda Masukan bernilai Ganjil')"
      ],
      "metadata": {
        "id": "im0YzvIuAiJE",
        "colab": {
          "base_uri": "https://localhost:8080/"
        },
        "outputId": "e5343baf-4436-4a15-a323-dfc7a5480ea7"
      },
      "execution_count": 8,
      "outputs": [
        {
          "output_type": "stream",
          "name": "stdout",
          "text": [
            "Masukkan angka! 9\n",
            "Angka yang anda Masukan bernilai Ganjil\n"
          ]
        }
      ]
    },
    {
      "cell_type": "markdown",
      "source": [
        "#Latihan 4\n",
        "\n",
        "Dengan loop, buatlah kode untuk melakukan perhitungan mundur dari 10 hingga 1"
      ],
      "metadata": {
        "id": "4HeEt0f8CYzf"
      }
    },
    {
      "cell_type": "code",
      "source": [
        "#Jawabanmu\n",
        "count = 10\n",
        "while (count >= 1):\n",
        "    print(\"Perhitungan Mundur Mulai dari: \", count)\n",
        "    count -= 1\n",
        "\n",
        "print (\"Selesai!\")"
      ],
      "metadata": {
        "id": "F4YMUS8hDXlB",
        "colab": {
          "base_uri": "https://localhost:8080/"
        },
        "outputId": "4607bf0f-6da2-4076-87c8-a215d9266baf"
      },
      "execution_count": 13,
      "outputs": [
        {
          "output_type": "stream",
          "name": "stdout",
          "text": [
            "Perhitungan Mundur Mulai dari:  10\n",
            "Perhitungan Mundur Mulai dari:  9\n",
            "Perhitungan Mundur Mulai dari:  8\n",
            "Perhitungan Mundur Mulai dari:  7\n",
            "Perhitungan Mundur Mulai dari:  6\n",
            "Perhitungan Mundur Mulai dari:  5\n",
            "Perhitungan Mundur Mulai dari:  4\n",
            "Perhitungan Mundur Mulai dari:  3\n",
            "Perhitungan Mundur Mulai dari:  2\n",
            "Perhitungan Mundur Mulai dari:  1\n",
            "Selesai!\n"
          ]
        }
      ]
    },
    {
      "cell_type": "markdown",
      "source": [
        "#Latihan 5\n",
        "\n",
        "Buatlah kode yang mengubah setiap nilai suhu dalam reamur pada list data yang dimiliki menjadi celcius\n",
        "\n",
        "clue:\n",
        "* Gunakan loop\n",
        "* $Celcius = 5/4 * Reamur$"
      ],
      "metadata": {
        "id": "QfKclFmPDZHO"
      }
    },
    {
      "cell_type": "code",
      "source": [
        "suhu_reamur = [20, 16, 15, 12]\n",
        "#Jawaban\n",
        "for x in suhu_reamur:\n",
        "  celcius = 5/4 * x\n",
        "  print(celcius)"
      ],
      "metadata": {
        "id": "Rh1YA2ZbD4dQ",
        "colab": {
          "base_uri": "https://localhost:8080/"
        },
        "outputId": "4c7d902f-ba07-404c-cb9a-f756707c95c3"
      },
      "execution_count": 14,
      "outputs": [
        {
          "output_type": "stream",
          "name": "stdout",
          "text": [
            "25.0\n",
            "20.0\n",
            "18.75\n",
            "15.0\n"
          ]
        }
      ]
    },
    {
      "cell_type": "markdown",
      "source": [
        "##Latihan 6\n",
        "\n",
        "Buatlah kode yang mengubah huruf pertama dan terakhir dalam sebuah kata menjadi kapital\n",
        "\n",
        "contoh\n",
        "input: hello world\n",
        "output: HellO WorlD"
      ],
      "metadata": {
        "id": "tY0_Huyxcn1M"
      }
    },
    {
      "cell_type": "code",
      "source": [
        "pesan1 = 'selamat datang'\n",
        "pesan2 = 'les data science'\n",
        "#Jawaban\n",
        "pesan1_awal = pesan1[0:7].replace('selamat','SelamaT ')\n",
        "pesan1_akhir =pesan1[8:14].replace('datang','DatanG')\n",
        "pesan1 = pesan1_awal + pesan1_akhir\n",
        "\n",
        "pesan2_awal = pesan2[0:3].replace('les','LeS ')\n",
        "pesan2_tengah = pesan2[4:8].replace('data','DatA ')\n",
        "pesan2_akhir = pesan2[9:16].replace('science','SciencE')\n",
        "pesan2 = pesan2_awal + pesan2_tengah + pesan2_akhir\n",
        "print(pesan1)\n",
        "print(pesan2)"
      ],
      "metadata": {
        "id": "W8keQOiZMcdy",
        "colab": {
          "base_uri": "https://localhost:8080/"
        },
        "outputId": "34878526-48c5-449f-d2b7-1819a298bf9b"
      },
      "execution_count": 32,
      "outputs": [
        {
          "output_type": "stream",
          "name": "stdout",
          "text": [
            "SelamaT DatanG\n",
            "LeS DatA SciencE\n"
          ]
        }
      ]
    },
    {
      "cell_type": "markdown",
      "source": [
        "##Latihan 7\n",
        "\n",
        "Hitunglah *Mean Absolute Error* (MAE) dari list nilai prediksi terhadap list nilai aslinya\n",
        "\n",
        "$mae = (\\frac{1}{n})\\sum_{i=1}^{n}\\left | y_{i} - x_{i} \\right |$\n",
        "\n",
        "dimana:\n",
        "* n = jumlah data\n",
        "* yi = nilai prediksi ke-i\n",
        "* xi = nilai aktual ke-i"
      ],
      "metadata": {
        "id": "r6a_9cUJhP7t"
      }
    },
    {
      "cell_type": "code",
      "source": [
        "y = [1.2, 5, 8.7, 10, 15]\n",
        "x = [1, 4.5, 9.2, 9, 14]\n",
        "#Jawaban\n",
        "n = 5\n",
        "sum = 0\n",
        "  \n",
        "# for loop for iteration\n",
        "for i in range(n):\n",
        "    sum += abs(x[i] - y[i])\n",
        "  \n",
        "error = sum/n\n",
        "  \n",
        "# display\n",
        "print(\"Mean absolute error : \" + str(error))"
      ],
      "metadata": {
        "id": "_vnq55QqirkG",
        "colab": {
          "base_uri": "https://localhost:8080/"
        },
        "outputId": "b5901a2e-c959-4c01-eb5b-caa1df3e37f8"
      },
      "execution_count": 33,
      "outputs": [
        {
          "output_type": "stream",
          "name": "stdout",
          "text": [
            "Mean absolute error : 0.64\n"
          ]
        }
      ]
    },
    {
      "cell_type": "markdown",
      "source": [
        "##Latihan 8\n",
        "\n",
        "Buatlah kode untuk mengecek apakah ada nilai `200` dalam dictionary\n",
        "\n",
        "clue: gunakan .values() untuk mengakses value pada dictionary\n"
      ],
      "metadata": {
        "id": "J_jWC73QjS0r"
      }
    },
    {
      "cell_type": "code",
      "source": [
        "sample_dict = {'a': 100, 'b': 200, 'c': 300}\n",
        "#Jawaban\n",
        "sample_dict.values()\n",
        "for x in sample_dict.values():\n",
        "  if x == 200:\n",
        "    print(\"Nilai 200 ada di Dictionary\")"
      ],
      "metadata": {
        "id": "qxAGf4YEjIr9",
        "colab": {
          "base_uri": "https://localhost:8080/"
        },
        "outputId": "bf0d9891-b3ed-4c78-9987-20f0415a7374"
      },
      "execution_count": 52,
      "outputs": [
        {
          "output_type": "stream",
          "name": "stdout",
          "text": [
            "Nilai 200 ada di Dictionary\n"
          ]
        }
      ]
    },
    {
      "cell_type": "markdown",
      "source": [
        "##Latihan 9\n",
        "\n",
        "Buatlah kode untuk menghitung nilai dari \n",
        "\n",
        "f(x) = x^2 + 3x - 5\n",
        "\n",
        "untuk x:\n",
        "* x = 2\n",
        "* x = 3\n",
        "* x - 5"
      ],
      "metadata": {
        "id": "gK33pJJ9kHdW"
      }
    },
    {
      "cell_type": "code",
      "source": [
        "#Lanjutkan\n",
        "def rumus(x):\n",
        "  hasil = (x**2) + (3*x) - 5\n",
        "  print(\"Hasil =\", hasil)\n",
        "\n",
        "rumus(2)\n",
        "rumus(3)\n",
        "rumus(5)"
      ],
      "metadata": {
        "id": "kmUJm-peT-ch",
        "colab": {
          "base_uri": "https://localhost:8080/"
        },
        "outputId": "6f2af805-8a37-443d-fc50-9c7766199a75"
      },
      "execution_count": 67,
      "outputs": [
        {
          "output_type": "stream",
          "name": "stdout",
          "text": [
            "Hasil = 5\n",
            "Hasil = 13\n",
            "Hasil = 35\n"
          ]
        }
      ]
    },
    {
      "cell_type": "markdown",
      "source": [
        "##Latihan 10\n",
        "\n",
        "Buatlah kode untuk menghitung luas gabungan dari persegi panjang dan segitiga\n",
        "\n",
        "No | Lebar | Panjang | Alas | Tinggi\n",
        "--- | --- | --- | --- | ---\n",
        "1 | 2 | 5 | 3 | 6\n",
        "2 | 3 | 5 | 4 | 8\n",
        "3 | 3 | 6 | 2 | 5\n",
        "4 | 5 | 8 | 2 | 4\n",
        "5 | 4 | 10 | 3 | 5"
      ],
      "metadata": {
        "id": "TcEsq-Q3k_hg"
      }
    },
    {
      "cell_type": "code",
      "source": [
        "#Jawaban\n",
        "def segitiga(alas, tinggi):\n",
        "  luas = (alas*tinggi)/2\n",
        "  return luas\n",
        "\n",
        "def persegi_panjang(panjang, lebar):\n",
        "  luas = panjang * lebar\n",
        "  return luas"
      ],
      "metadata": {
        "id": "Y2gBrx9D4jdp"
      },
      "execution_count": 70,
      "outputs": []
    },
    {
      "cell_type": "code",
      "source": [
        "lebar = [2, 3, 3, 5, 4]\n",
        "panjang = [5, 5, 6, 8, 10]\n",
        "alas = [3, 4, 2, 2, 3]\n",
        "tinggi = [6, 8, 5, 4, 5]\n",
        "\n",
        "for x, y, a, b in zip(alas,tinggi, lebar, panjang):\n",
        "  luas_segitiga = segitiga(x,y)\n",
        "  luas_persegi_panjang = persegi_panjang(a, b)\n",
        "  luas_gabungan = luas_segitiga + luas_persegi_panjang \n",
        "  print('Luas Gabungan', luas_gabungan)"
      ],
      "metadata": {
        "id": "wREOWc7bkGr4",
        "colab": {
          "base_uri": "https://localhost:8080/"
        },
        "outputId": "761de822-3f74-41fe-fb76-5e305875f739"
      },
      "execution_count": 72,
      "outputs": [
        {
          "output_type": "stream",
          "name": "stdout",
          "text": [
            "Luas Gabungan 19.0\n",
            "Luas Gabungan 31.0\n",
            "Luas Gabungan 23.0\n",
            "Luas Gabungan 44.0\n",
            "Luas Gabungan 47.5\n"
          ]
        }
      ]
    }
  ]
}